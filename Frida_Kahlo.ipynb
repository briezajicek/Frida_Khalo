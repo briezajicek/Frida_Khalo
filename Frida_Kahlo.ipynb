{
 "cells": [
  {
   "cell_type": "code",
   "execution_count": 21,
   "id": "61aba1aa-02a6-4ea3-bb11-3ed44524cca5",
   "metadata": {},
   "outputs": [
    {
     "name": "stdout",
     "output_type": "stream",
     "text": [
      "7\n",
      "[1, 2, 3, 4, 5, 6, 7]\n"
     ]
    }
   ],
   "source": [
    "# Task 1 - create list of paintings\n",
    "\n",
    "paintings = ['The Two Fridas', 'My Dress Hangs Here', 'Tree of Hope', 'Self Portrait With Monkeys']\n",
    "\n",
    "# Task 2 - create list of dates\n",
    "\n",
    "dates = [1939, 1933, 1946, 1940]\n",
    "\n",
    "# Task 3 - combine paintings with dates in list\n",
    "\n",
    "paintings = list(zip(paintings, dates))\n",
    "\n",
    "# Task 4 - append additional paintings\n",
    "\n",
    "paintings.append(('The Broken Column', 1944))\n",
    "paintings.append(('The Wounded Deer', 1946))\n",
    "paintings.append(('Me and My Doll', 1937))\n",
    "\n",
    "# Task 5 - figure out how many paintings are now in our list\n",
    "\n",
    "listlength = len(paintings)\n",
    "print(listlength)\n",
    "\n",
    "# Task 6 - add a number to identify each painting\n",
    "\n",
    "audio_tour_number = []\n",
    "\n",
    "for i in range (7):\n",
    "    num = i+1\n",
    "    audio_tour_number.append(num)\n",
    "\n",
    "print(audio_tour_number)\n",
    "    \n",
    "# Task 7 - add the numbers to the paintings list\n",
    "\n",
    "master_list = list(zip(paintings, dat))\n"
   ]
  },
  {
   "cell_type": "code",
   "execution_count": null,
   "id": "ccb8faac-cac5-4307-960e-790607274118",
   "metadata": {},
   "outputs": [],
   "source": []
  }
 ],
 "metadata": {
  "kernelspec": {
   "display_name": "Python 3 (ipykernel)",
   "language": "python",
   "name": "python3"
  },
  "language_info": {
   "codemirror_mode": {
    "name": "ipython",
    "version": 3
   },
   "file_extension": ".py",
   "mimetype": "text/x-python",
   "name": "python",
   "nbconvert_exporter": "python",
   "pygments_lexer": "ipython3",
   "version": "3.12.4"
  }
 },
 "nbformat": 4,
 "nbformat_minor": 5
}
